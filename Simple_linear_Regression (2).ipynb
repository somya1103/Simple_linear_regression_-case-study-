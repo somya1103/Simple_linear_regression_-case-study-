{
 "cells": [
  {
   "cell_type": "markdown",
   "id": "0ae44a57",
   "metadata": {},
   "source": [
    "# Simple Linear Regression"
   ]
  },
  {
   "cell_type": "code",
   "execution_count": 2,
   "id": "833444d7",
   "metadata": {},
   "outputs": [],
   "source": [
    "import pandas as pd\n",
    "import numpy as np\n",
    "import seaborn as sns\n",
    "import matplotlib.pyplot as plt\n",
    "\n",
    "df=pd.read_csv(r\"C:\\Users\\Infinix\\Downloads\\Breast_cancer_dataset.csv\")"
   ]
  },
  {
   "cell_type": "code",
   "execution_count": 3,
   "id": "d0894cad",
   "metadata": {},
   "outputs": [
    {
     "data": {
      "text/html": [
       "<div>\n",
       "<style scoped>\n",
       "    .dataframe tbody tr th:only-of-type {\n",
       "        vertical-align: middle;\n",
       "    }\n",
       "\n",
       "    .dataframe tbody tr th {\n",
       "        vertical-align: top;\n",
       "    }\n",
       "\n",
       "    .dataframe thead th {\n",
       "        text-align: right;\n",
       "    }\n",
       "</style>\n",
       "<table border=\"1\" class=\"dataframe\">\n",
       "  <thead>\n",
       "    <tr style=\"text-align: right;\">\n",
       "      <th></th>\n",
       "      <th>id</th>\n",
       "      <th>radius_mean</th>\n",
       "      <th>perimeter_mean</th>\n",
       "    </tr>\n",
       "  </thead>\n",
       "  <tbody>\n",
       "    <tr>\n",
       "      <th>440</th>\n",
       "      <td>909411</td>\n",
       "      <td>10.97</td>\n",
       "      <td>71.73</td>\n",
       "    </tr>\n",
       "    <tr>\n",
       "      <th>301</th>\n",
       "      <td>892604</td>\n",
       "      <td>12.46</td>\n",
       "      <td>80.43</td>\n",
       "    </tr>\n",
       "    <tr>\n",
       "      <th>240</th>\n",
       "      <td>88350402</td>\n",
       "      <td>13.64</td>\n",
       "      <td>87.38</td>\n",
       "    </tr>\n",
       "    <tr>\n",
       "      <th>154</th>\n",
       "      <td>8711002</td>\n",
       "      <td>13.15</td>\n",
       "      <td>85.31</td>\n",
       "    </tr>\n",
       "  </tbody>\n",
       "</table>\n",
       "</div>"
      ],
      "text/plain": [
       "           id  radius_mean  perimeter_mean\n",
       "440    909411        10.97           71.73\n",
       "301    892604        12.46           80.43\n",
       "240  88350402        13.64           87.38\n",
       "154   8711002        13.15           85.31"
      ]
     },
     "execution_count": 3,
     "metadata": {},
     "output_type": "execute_result"
    }
   ],
   "source": [
    "df=df[['id','radius_mean','perimeter_mean']]\n",
    "df.sample(4)"
   ]
  },
  {
   "cell_type": "markdown",
   "id": "64b64d66",
   "metadata": {},
   "source": [
    "# Step 1:- Basic Inspection"
   ]
  },
  {
   "cell_type": "code",
   "execution_count": 4,
   "id": "95e9a059",
   "metadata": {},
   "outputs": [
    {
     "data": {
      "text/markdown": [
       "## 📊 DataFrame Information📊"
      ],
      "text/plain": [
       "<IPython.core.display.Markdown object>"
      ]
     },
     "metadata": {},
     "output_type": "display_data"
    },
    {
     "name": "stdout",
     "output_type": "stream",
     "text": [
      "<class 'pandas.core.frame.DataFrame'>\n",
      "RangeIndex: 569 entries, 0 to 568\n",
      "Data columns (total 3 columns):\n",
      " #   Column          Non-Null Count  Dtype  \n",
      "---  ------          --------------  -----  \n",
      " 0   id              569 non-null    int64  \n",
      " 1   radius_mean     569 non-null    float64\n",
      " 2   perimeter_mean  569 non-null    float64\n",
      "dtypes: float64(2), int64(1)\n",
      "memory usage: 13.5 KB\n",
      "None\n",
      " \n"
     ]
    },
    {
     "data": {
      "text/markdown": [
       "## 📊 Shape of Dataframe is :(569, 3)📊"
      ],
      "text/plain": [
       "<IPython.core.display.Markdown object>"
      ]
     },
     "metadata": {},
     "output_type": "display_data"
    },
    {
     "name": "stdout",
     "output_type": "stream",
     "text": [
      "Shape  :(569, 3)\n",
      " \n"
     ]
    },
    {
     "data": {
      "text/markdown": [
       "## 📊 Column wise null value"
      ],
      "text/plain": [
       "<IPython.core.display.Markdown object>"
      ]
     },
     "metadata": {},
     "output_type": "display_data"
    },
    {
     "name": "stdout",
     "output_type": "stream",
     "text": [
      "id                0\n",
      "radius_mean       0\n",
      "perimeter_mean    0\n",
      "dtype: int64\n",
      " \n"
     ]
    },
    {
     "data": {
      "text/markdown": [
       "## 📊DataFrame-Summary "
      ],
      "text/plain": [
       "<IPython.core.display.Markdown object>"
      ]
     },
     "metadata": {},
     "output_type": "display_data"
    },
    {
     "name": "stdout",
     "output_type": "stream",
     "text": [
      "\n",
      "                 id  radius_mean  perimeter_mean\n",
      "count  5.690000e+02   569.000000      569.000000\n",
      "mean   3.037183e+07    14.127292       91.969033\n",
      "std    1.250206e+08     3.524049       24.298981\n",
      "min    8.670000e+03     6.981000       43.790000\n",
      "25%    8.692180e+05    11.700000       75.170000\n",
      "50%    9.060240e+05    13.370000       86.240000\n",
      "75%    8.813129e+06    15.780000      104.100000\n",
      "max    9.113205e+08    28.110000      188.500000\n",
      " \n"
     ]
    },
    {
     "data": {
      "text/markdown": [
       "## 📊 Duplicate value  📊"
      ],
      "text/plain": [
       "<IPython.core.display.Markdown object>"
      ]
     },
     "metadata": {},
     "output_type": "display_data"
    },
    {
     "name": "stdout",
     "output_type": "stream",
     "text": [
      "Duplicate value is :0\n"
     ]
    }
   ],
   "source": [
    "from IPython.display import Markdown, display\n",
    "display(Markdown(f\"## 📊 DataFrame Information📊\"))\n",
    "print(df.info())\n",
    "print(\" \")\n",
    "shape=df.shape\n",
    "display(Markdown(f\"## 📊 Shape of Dataframe is :{shape}📊\"))\n",
    "print(f'Shape  :{shape}')\n",
    "print(\" \")\n",
    "null_value=df.isnull().sum()\n",
    "display(Markdown(f\"## 📊 Column wise null value\"))\n",
    "print( null_value)\n",
    "print(\" \")\n",
    "display(Markdown(f\"## 📊DataFrame-Summary \"))\n",
    "print(\"\")\n",
    "print(df.describe())\n",
    "print(\" \")\n",
    "duplicate=df['id'].duplicated().sum()\n",
    "display(Markdown(f\"## 📊 Duplicate value  📊\"))\n",
    "\n",
    "print(f'Duplicate value is :{duplicate}')"
   ]
  },
  {
   "cell_type": "markdown",
   "id": "bfefc52b",
   "metadata": {},
   "source": [
    "# Step 2:- Explore"
   ]
  },
  {
   "cell_type": "code",
   "execution_count": 5,
   "id": "56b03178",
   "metadata": {},
   "outputs": [],
   "source": [
    "feature=df['radius_mean']\n",
    "target=df['perimeter_mean']"
   ]
  },
  {
   "cell_type": "code",
   "execution_count": 6,
   "id": "3885814a",
   "metadata": {},
   "outputs": [
    {
     "data": {
      "image/png": "[encoded data removed]",
      "text/plain": [
       "<Figure size 640x480 with 1 Axes>"
      ]
     },
     "metadata": {},
     "output_type": "display_data"
    }
   ],
   "source": [
    "sns.scatterplot(x=feature, y=target, data=df)\n",
    "plt.show()"
   ]
  },
  {
   "cell_type": "code",
   "execution_count": 7,
   "id": "f62f812d",
   "metadata": {},
   "outputs": [
    {
     "data": {
      "image/png": "[encoded data removed]",
      "text/plain": [
       "<Figure size 1400x400 with 2 Axes>"
      ]
     },
     "metadata": {},
     "output_type": "display_data"
    }
   ],
   "source": [
    "plt.figure(figsize=(14,4))\n",
    "plt.subplot(1,2,1)\n",
    "sns.boxplot(y=df['radius_mean'])\n",
    "plt.title(\"radius_mean Box plot\")\n",
    "plt.subplot(1,2,2)\n",
    "sns.boxplot(y=df['perimeter_mean'])\n",
    "plt.title(\"perimeter_mean Box plot\")\n",
    "plt.show()"
   ]
  },
  {
   "cell_type": "markdown",
   "id": "87455629",
   "metadata": {},
   "source": []
  },
  {
   "cell_type": "code",
   "execution_count": 8,
   "id": "25e993d0",
   "metadata": {},
   "outputs": [],
   "source": [
    "def outliers(col):\n",
    "    q25=df[col].quantile(0.25)\n",
    "    q75=df[col].quantile(0.75)\n",
    "    \n",
    "    iqr=q75-q25\n",
    "    upper_limit=q75+1.5*iqr\n",
    "    lower_limit=q25-1.5*iqr\n",
    "    high_outliers=len(df[df[col]>upper_limit])\n",
    "    lower_outliers=len(df[df[col]<lower_limit])\n",
    "    Total_Outliers=high_outliers+lower_outliers\n",
    "    print(f\"Total_Outliers using IQR method is : {Total_Outliers}\")\n",
    "    \n"
   ]
  },
  {
   "cell_type": "code",
   "execution_count": 9,
   "id": "e30927ab",
   "metadata": {},
   "outputs": [
    {
     "data": {
      "text/markdown": [
       "radius_mean outliers"
      ],
      "text/plain": [
       "<IPython.core.display.Markdown object>"
      ]
     },
     "metadata": {},
     "output_type": "display_data"
    },
    {
     "name": "stdout",
     "output_type": "stream",
     "text": [
      "Total_Outliers using IQR method is : 14\n"
     ]
    },
    {
     "data": {
      "text/markdown": [
       "perimeter_mean outliers"
      ],
      "text/plain": [
       "<IPython.core.display.Markdown object>"
      ]
     },
     "metadata": {},
     "output_type": "display_data"
    },
    {
     "name": "stdout",
     "output_type": "stream",
     "text": [
      "Total_Outliers using IQR method is : 13\n"
     ]
    }
   ],
   "source": [
    "for col in df.columns[1:]:\n",
    "    display(Markdown(f\"{col} outliers\"))\n",
    "    outliers(col)\n"
   ]
  },
  {
   "cell_type": "markdown",
   "id": "b1e9d836",
   "metadata": {},
   "source": [
    "## Step 3 :- Train_Test_Split"
   ]
  },
  {
   "cell_type": "code",
   "execution_count": 10,
   "id": "18854cd9",
   "metadata": {},
   "outputs": [],
   "source": [
    "X=df[['radius_mean']]\n",
    "y=df['perimeter_mean']\n",
    "from sklearn.model_selection import train_test_split\n",
    "X_train,X_test,y_train,y_test=train_test_split(X,y,test_size=0.2,random_state=42)\n"
   ]
  },
  {
   "cell_type": "code",
   "execution_count": 11,
   "id": "b359f687",
   "metadata": {},
   "outputs": [
    {
     "data": {
      "text/plain": [
       "68      58.79\n",
       "181    142.70\n",
       "63      59.20\n",
       "248     68.01\n",
       "60      64.55\n",
       "        ...  \n",
       "71      58.79\n",
       "106     75.17\n",
       "270     90.30\n",
       "435     91.12\n",
       "102     77.22\n",
       "Name: perimeter_mean, Length: 455, dtype: float64"
      ]
     },
     "execution_count": 11,
     "metadata": {},
     "output_type": "execute_result"
    }
   ],
   "source": [
    "y_train"
   ]
  },
  {
   "cell_type": "markdown",
   "id": "f90eaa6a",
   "metadata": {},
   "source": [
    "## Step 4:- FIT"
   ]
  },
  {
   "cell_type": "code",
   "execution_count": 12,
   "id": "4afcfbb9",
   "metadata": {},
   "outputs": [
    {
     "name": "stdout",
     "output_type": "stream",
     "text": [
      "X_train shape is : (455, 2)\n",
      "X_test shape is : (114, 1)\n",
      "                            OLS Regression Results                            \n",
      "==============================================================================\n",
      "Dep. Variable:         perimeter_mean   R-squared:                       0.996\n",
      "Model:                            OLS   Adj. R-squared:                  0.996\n",
      "Method:                 Least Squares   F-statistic:                 1.050e+05\n",
      "Date:                Sat, 16 Aug 2025   Prob (F-statistic):               0.00\n",
      "Time:                        11:03:01   Log-Likelihood:                -857.22\n",
      "No. Observations:                 455   AIC:                             1718.\n",
      "Df Residuals:                     453   BIC:                             1727.\n",
      "Df Model:                           1                                         \n",
      "Covariance Type:            nonrobust                                         \n",
      "===============================================================================\n",
      "                  coef    std err          t      P>|t|      [0.025      0.975]\n",
      "-------------------------------------------------------------------------------\n",
      "const          -5.0208      0.308    -16.290      0.000      -5.627      -4.415\n",
      "radius_mean     6.8640      0.021    324.089      0.000       6.822       6.906\n",
      "==============================================================================\n",
      "Omnibus:                       94.024   Durbin-Watson:                   1.960\n",
      "Prob(Omnibus):                  0.000   Jarque-Bera (JB):              195.106\n",
      "Skew:                           1.104   Prob(JB):                     4.30e-43\n",
      "Kurtosis:                       5.326   Cond. No.                         60.2\n",
      "==============================================================================\n",
      "\n",
      "Notes:\n",
      "[1] Standard Errors assume that the covariance matrix of the errors is correctly specified.\n"
     ]
    }
   ],
   "source": [
    "import statsmodels.api as sm\n",
    "X_train_sm=sm.add_constant(X_train)\n",
    "\n",
    "print(f\"X_train shape is :\",X_train_sm.shape)\n",
    "print(f\"X_test shape is :\",X_test.shape)\n",
    "\n",
    "model_train_sm=sm.OLS(y_train,X_train_sm).fit()\n",
    "\n",
    "\n",
    "print(model_train_sm.summary())"
   ]
  },
  {
   "cell_type": "code",
   "execution_count": 13,
   "id": "a82c6160",
   "metadata": {},
   "outputs": [
    {
     "name": "stdout",
     "output_type": "stream",
     "text": [
      "Intercept: -5.020848584173933\n",
      "Slope: 6.863974682090257\n"
     ]
    }
   ],
   "source": [
    "from sklearn.linear_model import LinearRegression\n",
    "\n",
    "# Initialize model\n",
    "model_skl = LinearRegression()\n",
    "\n",
    "# Fit model\n",
    "model_skl.fit(X_train, y_train)\n",
    "\n",
    "# Coefficients\n",
    "print(\"Intercept:\", model_skl.intercept_)\n",
    "print(\"Slope:\", model_skl.coef_[0])\n",
    "\n",
    "# Predictions on train and test\n",
    "y_train_pred = model_skl.predict(X_train)\n",
    "y_test_pred = model_skl.predict(X_test)\n"
   ]
  },
  {
   "cell_type": "markdown",
   "id": "939e985e",
   "metadata": {},
   "source": [
    "## Step 5:-Diagnostics"
   ]
  },
  {
   "cell_type": "code",
   "execution_count": 14,
   "id": "681d8bb6",
   "metadata": {},
   "outputs": [
    {
     "data": {
      "image/png": "[encoded data removed]",
      "text/plain": [
       "<Figure size 640x480 with 1 Axes>"
      ]
     },
     "metadata": {},
     "output_type": "display_data"
    }
   ],
   "source": [
    "# Residuals plot\n",
    "Residual= y_train-y_train_pred\n",
    "fixed=y_train_pred\n",
    "plt.scatter(Residual,fixed)\n",
    "plt.axhline(0,color='red',linestyle='--')\n",
    "plt.xlabel(\"Residual\")\n",
    "plt.ylabel(\"fixed\")\n",
    "plt.title(\"Residual Vs Fixed plot\")\n",
    "plt.show()\n"
   ]
  },
  {
   "cell_type": "code",
   "execution_count": 15,
   "id": "9a53827d",
   "metadata": {},
   "outputs": [
    {
     "data": {
      "image/png": "[encoded data removed]",
      "text/plain": [
       "<Figure size 640x480 with 1 Axes>"
      ]
     },
     "metadata": {},
     "output_type": "display_data"
    }
   ],
   "source": [
    "sm.qqplot(Residual,line='45')\n",
    "plt.title('QQ-Plot of Residuals')\n",
    "plt.show()"
   ]
  },
  {
   "cell_type": "code",
   "execution_count": 16,
   "id": "0261abef",
   "metadata": {},
   "outputs": [],
   "source": [
    "from statsmodels.stats.diagnostic import het_breuschpagan \n",
    "\n",
    "def heteroscedasticity_check(y_train):\n",
    "    \n",
    "    Residual= y_train-y_train_pred  \n",
    "    lm_stat, lm_pvalue, f_stat, f_pvalue = het_breuschpagan(Residual, sm.add_constant(X_train))\n",
    "    print(\"LM stat:\", lm_stat)\n",
    "    print(\"LM p-value:\", lm_pvalue)\n",
    "    print(\"F-stat:\", f_stat)\n",
    "    print(\"F p-value:\", f_pvalue)\n",
    "\n",
    "\n",
    "    if lm_pvalue>0.05: \n",
    "        print(\"No heteroscedesticity\")\n",
    "    else:\n",
    "        print(\"Heteroscedesticity Present\")\n",
    "\n",
    "    if f_pvalue>0.05: \n",
    "        print(\"No heteroscedesticity\")\n",
    "    else:\n",
    "        print(\"Heteroscedesticity Present\")\n",
    "\n",
    "        "
   ]
  },
  {
   "cell_type": "code",
   "execution_count": 17,
   "id": "0f198e19",
   "metadata": {},
   "outputs": [
    {
     "name": "stdout",
     "output_type": "stream",
     "text": [
      "LM stat: 34.76600282374158\n",
      "LM p-value: 3.718098480993224e-09\n",
      "F-stat: 37.476737686573564\n",
      "F p-value: 2.0062839066519626e-09\n",
      "Heteroscedesticity Present\n",
      "Heteroscedesticity Present\n"
     ]
    }
   ],
   "source": [
    "heteroscedasticity_check(y_train)"
   ]
  },
  {
   "cell_type": "markdown",
   "id": "75beb7cf",
   "metadata": {},
   "source": [
    "## Step 6:- Fix voilations"
   ]
  },
  {
   "cell_type": "code",
   "execution_count": 18,
   "id": "72a8795b",
   "metadata": {},
   "outputs": [
    {
     "name": "stdout",
     "output_type": "stream",
     "text": [
      "                            OLS Regression Results                            \n",
      "==============================================================================\n",
      "Dep. Variable:         perimeter_mean   R-squared:                       0.973\n",
      "Model:                            OLS   Adj. R-squared:                  0.973\n",
      "Method:                 Least Squares   F-statistic:                 1.616e+04\n",
      "Date:                Sat, 16 Aug 2025   Prob (F-statistic):               0.00\n",
      "Time:                        11:03:01   Log-Likelihood:                 803.90\n",
      "No. Observations:                 455   AIC:                            -1604.\n",
      "Df Residuals:                     453   BIC:                            -1596.\n",
      "Df Model:                           1                                         \n",
      "Covariance Type:            nonrobust                                         \n",
      "===============================================================================\n",
      "                  coef    std err          t      P>|t|      [0.025      0.975]\n",
      "-------------------------------------------------------------------------------\n",
      "const           3.5011      0.008    437.395      0.000       3.485       3.517\n",
      "radius_mean     0.0699      0.001    127.128      0.000       0.069       0.071\n",
      "==============================================================================\n",
      "Omnibus:                      166.247   Durbin-Watson:                   2.059\n",
      "Prob(Omnibus):                  0.000   Jarque-Bera (JB):              658.745\n",
      "Skew:                          -1.613   Prob(JB):                    9.02e-144\n",
      "Kurtosis:                       7.933   Cond. No.                         60.2\n",
      "==============================================================================\n",
      "\n",
      "Notes:\n",
      "[1] Standard Errors assume that the covariance matrix of the errors is correctly specified.\n",
      "LM stat: 14.987424644137214\n",
      "LM p-value: 0.00010823001852554397\n",
      "F-stat: 15.42979392873776\n",
      "F p-value: 9.897583301409175e-05\n",
      "Heteroscedesticity Present\n",
      "Heteroscedesticity Present\n"
     ]
    }
   ],
   "source": [
    "import numpy as np\n",
    "\n",
    "y_train_log = np.log(y_train)  # log transform\n",
    "model_log = sm.OLS(y_train_log, sm.add_constant(X_train)).fit()\n",
    "y_train_pred = model_log.predict(sm.add_constant(X_train))\n",
    "\n",
    "print(model_log.summary())\n",
    "\n",
    "\n",
    "heteroscedasticity_check(y_train_log)"
   ]
  },
  {
   "cell_type": "code",
   "execution_count": 19,
   "id": "bcbba81f",
   "metadata": {},
   "outputs": [
    {
     "name": "stdout",
     "output_type": "stream",
     "text": [
      "                            OLS Regression Results                            \n",
      "==============================================================================\n",
      "Dep. Variable:         perimeter_mean   R-squared:                       0.996\n",
      "Model:                            OLS   Adj. R-squared:                  0.996\n",
      "Method:                 Least Squares   F-statistic:                 6.558e+04\n",
      "Date:                Sat, 16 Aug 2025   Prob (F-statistic):               0.00\n",
      "Time:                        11:03:01   Log-Likelihood:                -857.22\n",
      "No. Observations:                 455   AIC:                             1718.\n",
      "Df Residuals:                     453   BIC:                             1727.\n",
      "Df Model:                           1                                         \n",
      "Covariance Type:                  HC3                                         \n",
      "===============================================================================\n",
      "                  coef    std err          z      P>|z|      [0.025      0.975]\n",
      "-------------------------------------------------------------------------------\n",
      "const          -5.0208      0.350    -14.345      0.000      -5.707      -4.335\n",
      "radius_mean     6.8640      0.027    256.096      0.000       6.811       6.917\n",
      "==============================================================================\n",
      "Omnibus:                       94.024   Durbin-Watson:                   1.960\n",
      "Prob(Omnibus):                  0.000   Jarque-Bera (JB):              195.106\n",
      "Skew:                           1.104   Prob(JB):                     4.30e-43\n",
      "Kurtosis:                       5.326   Cond. No.                         60.2\n",
      "==============================================================================\n",
      "\n",
      "Notes:\n",
      "[1] Standard Errors are heteroscedasticity robust (HC3)\n"
     ]
    }
   ],
   "source": [
    "model_robust = sm.OLS(y_train, sm.add_constant(X_train)).fit(cov_type='HC3')\n",
    "print(model_robust.summary())\n"
   ]
  },
  {
   "cell_type": "code",
   "execution_count": 20,
   "id": "fc5b7b86",
   "metadata": {},
   "outputs": [
    {
     "name": "stdout",
     "output_type": "stream",
     "text": [
      "LM stat: 438.07511757992154\n",
      "LM p-value: 2.8403828470374903e-97\n",
      "F-stat: 11725.223451377127\n",
      "F p-value: 0.0\n",
      "Heteroscedesticity Present\n",
      "Heteroscedesticity Present\n"
     ]
    }
   ],
   "source": [
    "heteroscedasticity_check(y_train)"
   ]
  },
  {
   "cell_type": "code",
   "execution_count": 21,
   "id": "c3cc68f5",
   "metadata": {},
   "outputs": [],
   "source": [
    "from sklearn.preprocessing import PowerTransformer\n",
    "pt = PowerTransformer(method='yeo-johnson')\n",
    "y_train_yj = pt.fit_transform(y_train.values.reshape(-1,1))\n"
   ]
  },
  {
   "cell_type": "code",
   "execution_count": 22,
   "id": "907fc000",
   "metadata": {},
   "outputs": [
    {
     "data": {
      "text/plain": [
       "array([[-1.80284750e+00],\n",
       "       [ 1.75668865e+00],\n",
       "       [-1.76809653e+00],\n",
       "       [-1.09977672e+00],\n",
       "       [-1.34571804e+00],\n",
       "       [ 3.96196316e-01],\n",
       "       [ 3.68045815e-01],\n",
       "       [-7.73025479e-01],\n",
       "       [-4.70028483e-01],\n",
       "       [ 1.46816623e+00],\n",
       "       [-3.87879668e-01],\n",
       "       [ 1.65248458e+00],\n",
       "       [ 4.71453007e-01],\n",
       "       [-1.58049428e+00],\n",
       "       [-9.79140986e-02],\n",
       "       [ 1.40129813e+00],\n",
       "       [ 1.26390388e+00],\n",
       "       [ 6.49702355e-01],\n",
       "       [ 1.65791521e-01],\n",
       "       [-6.96200852e-01],\n",
       "       [ 4.53141460e-01],\n",
       "       [ 6.16969318e-01],\n",
       "       [ 2.56961544e-02],\n",
       "       [-1.18920781e+00],\n",
       "       [ 3.57510159e-01],\n",
       "       [ 3.04999970e-01],\n",
       "       [-9.07174362e-01],\n",
       "       [ 1.45546579e+00],\n",
       "       [-1.25820032e+00],\n",
       "       [-2.76968065e-01],\n",
       "       [ 5.04796276e-02],\n",
       "       [-1.61409736e-01],\n",
       "       [ 1.10561930e+00],\n",
       "       [ 1.57199164e+00],\n",
       "       [ 4.82298944e-01],\n",
       "       [ 3.81167043e-02],\n",
       "       [ 4.17304639e-01],\n",
       "       [-4.68924705e-01],\n",
       "       [-2.46723909e+00],\n",
       "       [-4.43769103e-02],\n",
       "       [-8.53794039e-01],\n",
       "       [ 1.96843881e+00],\n",
       "       [ 1.43241591e+00],\n",
       "       [-2.88241352e+00],\n",
       "       [ 3.21525262e-01],\n",
       "       [-9.36167480e-01],\n",
       "       [-1.64156643e+00],\n",
       "       [-1.56857551e+00],\n",
       "       [-1.40469205e+00],\n",
       "       [-2.75422510e-01],\n",
       "       [ 3.95396326e-01],\n",
       "       [-1.13551444e+00],\n",
       "       [-3.03895235e-01],\n",
       "       [ 3.13689005e-01],\n",
       "       [-1.34202233e+00],\n",
       "       [ 2.13886773e-01],\n",
       "       [-1.23622254e-01],\n",
       "       [ 2.66181811e-02],\n",
       "       [-6.81464873e-02],\n",
       "       [ 4.55095841e-01],\n",
       "       [-2.44181740e-01],\n",
       "       [-1.65960094e-02],\n",
       "       [ 9.09786258e-01],\n",
       "       [ 4.24829151e-01],\n",
       "       [-6.41196513e-01],\n",
       "       [ 2.78755419e-01],\n",
       "       [ 5.45878722e-02],\n",
       "       [-8.08168596e-01],\n",
       "       [-2.06416565e+00],\n",
       "       [ 7.10361659e-01],\n",
       "       [ 1.22182377e+00],\n",
       "       [ 1.20803551e-01],\n",
       "       [ 3.59133864e-01],\n",
       "       [-3.97793514e-03],\n",
       "       [ 6.16969318e-01],\n",
       "       [-2.39093792e-01],\n",
       "       [ 1.33770436e+00],\n",
       "       [-3.52182418e-01],\n",
       "       [-3.53241457e-01],\n",
       "       [-1.06580228e+00],\n",
       "       [-8.28082529e-01],\n",
       "       [ 1.21046799e+00],\n",
       "       [-2.97443828e-02],\n",
       "       [-1.68402365e+00],\n",
       "       [ 1.06654176e+00],\n",
       "       [-9.46543957e-01],\n",
       "       [ 2.28869767e-01],\n",
       "       [-2.83399682e+00],\n",
       "       [ 1.41172010e+00],\n",
       "       [ 1.36807454e-02],\n",
       "       [ 1.35644322e+00],\n",
       "       [ 1.44780964e+00],\n",
       "       [-7.40720059e-01],\n",
       "       [-5.60313408e-01],\n",
       "       [-1.06133635e-01],\n",
       "       [ 9.97280098e-03],\n",
       "       [-1.25101651e+00],\n",
       "       [-1.78415520e+00],\n",
       "       [-8.86089612e-01],\n",
       "       [-1.13551444e+00],\n",
       "       [-4.88858537e-01],\n",
       "       [-1.05703048e+00],\n",
       "       [-3.10146385e-01],\n",
       "       [-9.53047472e-01],\n",
       "       [-9.23247057e-01],\n",
       "       [-4.51870766e-01],\n",
       "       [ 3.48561282e-01],\n",
       "       [ 3.71682654e-01],\n",
       "       [ 8.77137065e-01],\n",
       "       [ 8.13838773e-01],\n",
       "       [-2.51831269e-01],\n",
       "       [-1.69225220e+00],\n",
       "       [ 1.85588111e+00],\n",
       "       [-1.67346075e-01],\n",
       "       [-1.02352630e+00],\n",
       "       [-4.75000795e-01],\n",
       "       [-2.45200455e-01],\n",
       "       [ 2.96697308e-01],\n",
       "       [-5.17338929e-01],\n",
       "       [-4.68924705e-01],\n",
       "       [ 2.74984289e-01],\n",
       "       [ 5.35078175e-01],\n",
       "       [ 2.47782660e+00],\n",
       "       [-1.66355790e-01],\n",
       "       [-1.33876110e-01],\n",
       "       [ 1.63147454e+00],\n",
       "       [ 1.01605229e-01],\n",
       "       [ 4.49920811e-02],\n",
       "       [ 1.48330900e+00],\n",
       "       [-6.14698723e-02],\n",
       "       [-2.42145436e-01],\n",
       "       [-1.80711052e+00],\n",
       "       [ 1.28877719e+00],\n",
       "       [ 1.55327909e-02],\n",
       "       [ 5.23698913e-01],\n",
       "       [-7.75478065e-01],\n",
       "       [ 2.90869467e-01],\n",
       "       [ 3.15340733e-01],\n",
       "       [-4.82752818e-01],\n",
       "       [-1.61571152e+00],\n",
       "       [-8.55684124e-01],\n",
       "       [-5.08373280e-01],\n",
       "       [-3.10146385e-01],\n",
       "       [ 9.35584256e-01],\n",
       "       [ 2.21603094e-01],\n",
       "       [ 4.23246902e-01],\n",
       "       [-6.73007930e-01],\n",
       "       [-1.08555890e-01],\n",
       "       [-2.40110632e-01],\n",
       "       [ 8.23945638e-01],\n",
       "       [ 1.51823391e+00],\n",
       "       [-1.27035917e-01],\n",
       "       [-2.19752685e+00],\n",
       "       [-5.50644635e-01],\n",
       "       [-2.56431161e-01],\n",
       "       [ 5.38859743e-01],\n",
       "       [-2.36045515e-01],\n",
       "       [-8.51275790e-01],\n",
       "       [-4.92194452e-01],\n",
       "       [ 1.06957141e+00],\n",
       "       [ 4.08166000e-01],\n",
       "       [-7.23192660e-01],\n",
       "       [-3.15366410e-01],\n",
       "       [-1.40318539e+00],\n",
       "       [-7.53477931e-01],\n",
       "       [ 1.57199164e+00],\n",
       "       [ 9.35271015e-02],\n",
       "       [-1.18007692e+00],\n",
       "       [-1.39040763e+00],\n",
       "       [-7.03972942e-01],\n",
       "       [-4.19694036e-01],\n",
       "       [ 8.76775161e-02],\n",
       "       [-1.29000698e+00],\n",
       "       [ 1.01131742e+00],\n",
       "       [-4.42015317e-01],\n",
       "       [-4.67821356e-01],\n",
       "       [-2.37061234e-01],\n",
       "       [ 7.79837912e-01],\n",
       "       [-5.26895836e-01],\n",
       "       [ 8.44031947e-01],\n",
       "       [ 7.62655340e-01],\n",
       "       [-5.49509269e-01],\n",
       "       [-1.35608915e+00],\n",
       "       [ 2.69107117e-01],\n",
       "       [-7.76705123e-01],\n",
       "       [ 9.73757616e-01],\n",
       "       [ 1.64550454e+00],\n",
       "       [-2.20519656e+00],\n",
       "       [-2.63601777e-01],\n",
       "       [ 7.72979591e-01],\n",
       "       [-4.07249101e-01],\n",
       "       [ 1.01751887e+00],\n",
       "       [ 1.11157259e+00],\n",
       "       [-6.56469690e-01],\n",
       "       [-1.94720127e-01],\n",
       "       [-1.01421093e+00],\n",
       "       [-5.76309673e-01],\n",
       "       [ 3.48153769e-01],\n",
       "       [-5.75736844e-01],\n",
       "       [-2.01660463e+00],\n",
       "       [ 1.39082626e+00],\n",
       "       [-1.69554942e+00],\n",
       "       [-4.30560465e-01],\n",
       "       [ 5.45878722e-02],\n",
       "       [ 4.40204394e-01],\n",
       "       [-7.81924425e-02],\n",
       "       [ 2.35348154e+00],\n",
       "       [ 2.96281470e-01],\n",
       "       [ 2.20615579e+00],\n",
       "       [-4.96648420e-01],\n",
       "       [-1.83239529e-01],\n",
       "       [ 9.86344915e-01],\n",
       "       [ 1.40651533e+00],\n",
       "       [-1.53151279e+00],\n",
       "       [-4.84416716e-01],\n",
       "       [ 1.57199164e+00],\n",
       "       [-6.24837862e-01],\n",
       "       [ 1.55016311e+00],\n",
       "       [ 2.21844468e+00],\n",
       "       [-7.44359518e-01],\n",
       "       [ 2.08624471e+00],\n",
       "       [ 1.60075209e+00],\n",
       "       [-1.63881645e-01],\n",
       "       [ 7.52286684e-01],\n",
       "       [ 1.55016311e+00],\n",
       "       [ 1.28877719e+00],\n",
       "       [ 1.71653274e+00],\n",
       "       [-2.27933199e-01],\n",
       "       [-5.28022279e-01],\n",
       "       [ 4.13274222e-02],\n",
       "       [ 4.32725579e-01],\n",
       "       [ 6.20627926e-01],\n",
       "       [-8.70848130e-01],\n",
       "       [ 1.19332635e+00],\n",
       "       [ 1.40390829e+00],\n",
       "       [ 1.46563210e+00],\n",
       "       [ 4.17304639e-01],\n",
       "       [-8.86726365e-01],\n",
       "       [-2.11276559e-01],\n",
       "       [-3.16279849e-02],\n",
       "       [-1.16807749e-01],\n",
       "       [ 5.23062976e-02],\n",
       "       [-1.09525397e-01],\n",
       "       [-2.82642478e-01],\n",
       "       [-5.54053428e-01],\n",
       "       [ 1.39606846e+00],\n",
       "       [ 1.57440328e+00],\n",
       "       [ 4.39811324e-01],\n",
       "       [-3.08061109e-01],\n",
       "       [ 9.16262294e-01],\n",
       "       [-1.73454245e+00],\n",
       "       [-9.41351244e-01],\n",
       "       [-2.22927479e+00],\n",
       "       [-2.30944665e+00],\n",
       "       [-1.18218166e+00],\n",
       "       [ 1.56474028e+00],\n",
       "       [-1.66850887e-01],\n",
       "       [-3.42141471e-01],\n",
       "       [ 1.95445968e+00],\n",
       "       [ 1.14697028e+00],\n",
       "       [-6.73007930e-01],\n",
       "       [ 1.10859788e+00],\n",
       "       [ 1.02053291e-01],\n",
       "       [ 8.83703044e-01],\n",
       "       [-9.15521411e-01],\n",
       "       [-5.67729186e-01],\n",
       "       [-7.55914289e-01],\n",
       "       [-3.24262937e-01],\n",
       "       [-9.56956334e-01],\n",
       "       [-1.43186775e-01],\n",
       "       [ 1.13817222e+00],\n",
       "       [-1.72204743e+00],\n",
       "       [ 3.20701519e-01],\n",
       "       [ 1.28051687e+00],\n",
       "       [-6.84878706e-01],\n",
       "       [-3.85199976e-01],\n",
       "       [-1.46248114e+00],\n",
       "       [-1.37768125e+00],\n",
       "       [-4.29471941e-01],\n",
       "       [-6.64136474e-01],\n",
       "       [ 1.30793285e+00],\n",
       "       [ 5.98594329e-01],\n",
       "       [ 3.61972864e-01],\n",
       "       [-1.00812269e-01],\n",
       "       [ 3.75717507e-01],\n",
       "       [ 4.22851185e-01],\n",
       "       [ 8.37355286e-01],\n",
       "       [ 1.21615304e+00],\n",
       "       [-7.20181253e-01],\n",
       "       [ 1.14404137e+00],\n",
       "       [ 3.84973471e-01],\n",
       "       [-1.05366342e+00],\n",
       "       [ 1.51575800e+00],\n",
       "       [ 8.80422329e-01],\n",
       "       [ 6.13305264e-01],\n",
       "       [-4.38191881e-01],\n",
       "       [-7.36479714e-01],\n",
       "       [-6.27752288e-01],\n",
       "       [-9.05251417e-01],\n",
       "       [ 2.95033556e-01],\n",
       "       [ 4.81945249e-02],\n",
       "       [-7.91469748e-01],\n",
       "       [ 1.51575800e+00],\n",
       "       [-1.56592989e-02],\n",
       "       [-7.71043726e-03],\n",
       "       [ 3.82562116e-01],\n",
       "       [ 7.79837912e-01],\n",
       "       [-1.61490686e+00],\n",
       "       [-2.70791002e-01],\n",
       "       [ 8.70552849e-01],\n",
       "       [-8.44989476e-01],\n",
       "       [-2.18700879e+00],\n",
       "       [ 6.64111307e-01],\n",
       "       [-1.46862566e+00],\n",
       "       [ 6.13305264e-01],\n",
       "       [ 1.38293936e+00],\n",
       "       [-1.98226617e+00],\n",
       "       [-2.17826247e-01],\n",
       "       [ 1.36442564e+00],\n",
       "       [-4.04550927e-01],\n",
       "       [ 1.58162182e+00],\n",
       "       [ 1.54528184e+00],\n",
       "       [-9.15521411e-01],\n",
       "       [ 6.02280298e-01],\n",
       "       [ 2.33896932e-02],\n",
       "       [-1.19624994e+00],\n",
       "       [-1.48099921e-01],\n",
       "       [ 1.02061340e+00],\n",
       "       [-1.71623266e+00],\n",
       "       [-8.05898468e-02],\n",
       "       [-6.95603854e-01],\n",
       "       [-2.13290188e-01],\n",
       "       [ 1.54396971e-01],\n",
       "       [-2.17461963e+00],\n",
       "       [ 6.82003895e-01],\n",
       "       [-7.38824617e-02],\n",
       "       [ 9.67438441e-01],\n",
       "       [ 6.31571213e-01],\n",
       "       [-1.80016885e-02],\n",
       "       [-5.92971433e-01],\n",
       "       [-4.55163542e-01],\n",
       "       [ 1.19045672e+00],\n",
       "       [ 1.24436472e+00],\n",
       "       [-7.16571644e-01],\n",
       "       [ 9.86344915e-01],\n",
       "       [ 1.52810909e+00],\n",
       "       [ 3.35232434e-02],\n",
       "       [-7.32850000e-01],\n",
       "       [-3.29509465e-01],\n",
       "       [ 1.47322562e+00],\n",
       "       [-2.11707535e+00],\n",
       "       [ 1.20762008e+00],\n",
       "       [ 4.00990968e-01],\n",
       "       [ 3.83768079e-01],\n",
       "       [-2.85742507e-01],\n",
       "       [ 5.07680250e-01],\n",
       "       [-3.04936120e-01],\n",
       "       [-2.11363194e-03],\n",
       "       [ 1.13230203e-01],\n",
       "       [-6.54703298e-01],\n",
       "       [-2.36045515e-01],\n",
       "       [ 1.44269051e+00],\n",
       "       [ 2.67845982e-01],\n",
       "       [ 1.10859788e+00],\n",
       "       [-6.43292578e-02],\n",
       "       [-7.58352667e-01],\n",
       "       [-6.75378222e-01],\n",
       "       [-4.39283765e-01],\n",
       "       [-5.22956772e-01],\n",
       "       [-4.62311025e-01],\n",
       "       [ 6.64205898e-02],\n",
       "       [-6.14950694e-01],\n",
       "       [-8.82907882e-01],\n",
       "       [ 1.26668131e+00],\n",
       "       [ 1.98232034e+00],\n",
       "       [ 8.67253877e-01],\n",
       "       [ 2.57266094e+00],\n",
       "       [ 2.38511449e-02],\n",
       "       [-5.76882616e-01],\n",
       "       [-7.59572613e-01],\n",
       "       [ 1.72779004e-01],\n",
       "       [ 2.54941911e+00],\n",
       "       [-5.67109504e-02],\n",
       "       [ 8.20581428e-01],\n",
       "       [-1.17937566e+00],\n",
       "       [-7.34059406e-01],\n",
       "       [-9.99630069e-01],\n",
       "       [ 9.97280098e-03],\n",
       "       [-5.06695349e-01],\n",
       "       [ 1.03909433e+00],\n",
       "       [ 1.35910724e+00],\n",
       "       [-1.05132285e-02],\n",
       "       [-1.30895495e+00],\n",
       "       [-5.90091838e-01],\n",
       "       [ 3.00021588e-01],\n",
       "       [ 2.17319075e-01],\n",
       "       [-2.35030171e-01],\n",
       "       [ 6.60517014e-01],\n",
       "       [-1.56592989e-02],\n",
       "       [ 1.42726035e+00],\n",
       "       [ 1.52810909e+00],\n",
       "       [-4.94420566e-01],\n",
       "       [-7.27413834e-01],\n",
       "       [ 4.76881832e-01],\n",
       "       [ 7.76411195e-01],\n",
       "       [ 6.96224074e-01],\n",
       "       [-1.04694044e+00],\n",
       "       [-3.43196718e-01],\n",
       "       [ 1.54772387e+00],\n",
       "       [ 5.31290858e-01],\n",
       "       [ 2.01368906e+00],\n",
       "       [-1.22600288e+00],\n",
       "       [-4.51322341e-01],\n",
       "       [ 6.60517014e-01],\n",
       "       [-4.19694036e-01],\n",
       "       [ 3.81167043e-02],\n",
       "       [-1.57969832e+00],\n",
       "       [-1.04828385e+00],\n",
       "       [ 1.76330608e+00],\n",
       "       [ 6.27928861e-01],\n",
       "       [-2.45709954e-01],\n",
       "       [-1.58049428e+00],\n",
       "       [ 4.59074583e-02],\n",
       "       [-4.39283765e-01],\n",
       "       [-2.25908841e-01],\n",
       "       [-5.80322667e-01],\n",
       "       [-2.40110632e-01],\n",
       "       [-9.40054465e-01],\n",
       "       [ 1.47322562e+00],\n",
       "       [-1.67335742e+00],\n",
       "       [-7.32245484e-01],\n",
       "       [-1.56540459e+00],\n",
       "       [-5.92395284e-01],\n",
       "       [-8.51905152e-01],\n",
       "       [-2.70276867e-01],\n",
       "       [ 2.83357105e-01],\n",
       "       [ 4.27990683e-01],\n",
       "       [ 1.02370380e+00],\n",
       "       [ 1.45291674e+00],\n",
       "       [-8.77948263e-02],\n",
       "       [-4.25665403e-01],\n",
       "       [ 3.04585472e-01],\n",
       "       [ 1.72552381e+00],\n",
       "       [ 1.24155945e+00],\n",
       "       [-2.40110632e-01],\n",
       "       [ 7.34906057e-01],\n",
       "       [ 2.36967360e-01],\n",
       "       [-7.38824617e-02],\n",
       "       [ 1.22465379e+00],\n",
       "       [-9.06821937e-02],\n",
       "       [-1.80284750e+00],\n",
       "       [-6.46474300e-01],\n",
       "       [ 1.25248319e-01],\n",
       "       [ 1.61414860e-01],\n",
       "       [-5.28585667e-01]])"
      ]
     },
     "execution_count": 22,
     "metadata": {},
     "output_type": "execute_result"
    }
   ],
   "source": [
    "y_train_yj "
   ]
  },
  {
   "cell_type": "code",
   "execution_count": 23,
   "id": "94670112",
   "metadata": {},
   "outputs": [],
   "source": [
    "# heteroscedasticity_check for multiple transformations comparision\n",
    "import numpy as np\n",
    "import pandas as pd\n",
    "import statsmodels.api as sm\n",
    "from statsmodels.stats.diagnostic import het_breuschpagan\n",
    "from scipy.stats import boxcox\n",
    "from sklearn.preprocessing import PowerTransformer\n",
    "\n",
    "def heteroscedasticity_check(X, y, model=None, transformations=[\"none\", \"log\", \"sqrt\", \"boxcox\", \"yeojohnson\"]):\n",
    "    \"\"\"\n",
    "    Test heteroscedasticity for different transformations of y.\n",
    "    \n",
    "    Parameters:\n",
    "    X : DataFrame or ndarray\n",
    "        Features\n",
    "    y : Series or ndarray\n",
    "        Target\n",
    "    model : statsmodels model class (optional, default: OLS)\n",
    "    transformations : list of str\n",
    "        [\"none\", \"log\", \"sqrt\", \"boxcox\", \"yeojohnson\"]\n",
    "        \n",
    "    Returns:\n",
    "    DataFrame with LM stat, LM p-value, F-stat, F p-value, and verdict for each transformation.\n",
    "    \"\"\"\n",
    "    \n",
    "    if model is None:\n",
    "        model = sm.OLS  # default Ordinary Least Squares\n",
    "\n",
    "    X = sm.add_constant(X)  # add intercept if not present\n",
    "    y = np.array(y).flatten()\n",
    "\n",
    "    results = []\n",
    "\n",
    "    for trans in transformations:\n",
    "        y_trans = y.copy()\n",
    "        trans_applied = trans\n",
    "\n",
    "        try:\n",
    "            if trans == \"log\":\n",
    "                y_trans = np.log(y + 1e-6)  # avoid log(0)\n",
    "            elif trans == \"sqrt\":\n",
    "                y_trans = np.sqrt(y)\n",
    "            elif trans == \"boxcox\":\n",
    "                if np.any(y <= 0):\n",
    "                    trans_applied = \"boxcox (skipped - non-positive values)\"\n",
    "                    continue\n",
    "                y_trans, _ = boxcox(y)\n",
    "            elif trans == \"yeojohnson\":\n",
    "                pt = PowerTransformer(method=\"yeo-johnson\")\n",
    "                y_trans = pt.fit_transform(y.reshape(-1, 1)).flatten()\n",
    "\n",
    "            # Fit model\n",
    "            fitted_model = model(y_trans, X).fit()\n",
    "\n",
    "            # Breusch–Pagan test\n",
    "            lm_stat, lm_pvalue, f_stat, f_pvalue = het_breuschpagan(fitted_model.resid, fitted_model.model.exog)\n",
    "\n",
    "            verdict = \"Heteroscedasticity Present\" if lm_pvalue < 0.05 else \"No Heteroscedasticity\"\n",
    "\n",
    "            results.append({\n",
    "                \"Transformation\": trans_applied,\n",
    "                \"LM Stat\": lm_stat,\n",
    "                \"LM p-value\": lm_pvalue,\n",
    "                \"F-stat\": f_stat,\n",
    "                \"F p-value\": f_pvalue,\n",
    "                \"Verdict\": verdict\n",
    "            })\n",
    "        \n",
    "        except Exception as e:\n",
    "            results.append({\n",
    "                \"Transformation\": trans_applied,\n",
    "                \"LM Stat\": None,\n",
    "                \"LM p-value\": None,\n",
    "                \"F-stat\": None,\n",
    "                \"F p-value\": None,\n",
    "                \"Verdict\": f\"Error: {e}\"\n",
    "            })\n",
    "\n",
    "    return pd.DataFrame(results)\n",
    "\n",
    "# Example usage:\n",
    "# comparison_df = heteroscedasticity_check(X_train, y_train)\n",
    "# print(comparison_df)\n"
   ]
  },
  {
   "cell_type": "code",
   "execution_count": 33,
   "id": "4fcd1700",
   "metadata": {},
   "outputs": [
    {
     "data": {
      "text/html": [
       "<div>\n",
       "<style scoped>\n",
       "    .dataframe tbody tr th:only-of-type {\n",
       "        vertical-align: middle;\n",
       "    }\n",
       "\n",
       "    .dataframe tbody tr th {\n",
       "        vertical-align: top;\n",
       "    }\n",
       "\n",
       "    .dataframe thead th {\n",
       "        text-align: right;\n",
       "    }\n",
       "</style>\n",
       "<table border=\"1\" class=\"dataframe\">\n",
       "  <thead>\n",
       "    <tr style=\"text-align: right;\">\n",
       "      <th></th>\n",
       "      <th>Transformation</th>\n",
       "      <th>LM Stat</th>\n",
       "      <th>LM p-value</th>\n",
       "      <th>F-stat</th>\n",
       "      <th>F p-value</th>\n",
       "      <th>Verdict</th>\n",
       "    </tr>\n",
       "  </thead>\n",
       "  <tbody>\n",
       "    <tr>\n",
       "      <th>0</th>\n",
       "      <td>yeojohnson</td>\n",
       "      <td>5.799477</td>\n",
       "      <td>0.016031</td>\n",
       "      <td>5.848531</td>\n",
       "      <td>0.015983</td>\n",
       "      <td>Heteroscedasticity Present</td>\n",
       "    </tr>\n",
       "  </tbody>\n",
       "</table>\n",
       "</div>"
      ],
      "text/plain": [
       "  Transformation   LM Stat  LM p-value    F-stat  F p-value  \\\n",
       "0     yeojohnson  5.799477    0.016031  5.848531   0.015983   \n",
       "\n",
       "                      Verdict  \n",
       "0  Heteroscedasticity Present  "
      ]
     },
     "execution_count": 33,
     "metadata": {},
     "output_type": "execute_result"
    }
   ],
   "source": [
    "heteroscedasticity_check(X_train, y_train, model=None, transformations=[ \"yeojohnson\"])"
   ]
  },
  {
   "cell_type": "code",
   "execution_count": 25,
   "id": "53b900c7",
   "metadata": {},
   "outputs": [
    {
     "data": {
      "text/html": [
       "<div>\n",
       "<style scoped>\n",
       "    .dataframe tbody tr th:only-of-type {\n",
       "        vertical-align: middle;\n",
       "    }\n",
       "\n",
       "    .dataframe tbody tr th {\n",
       "        vertical-align: top;\n",
       "    }\n",
       "\n",
       "    .dataframe thead th {\n",
       "        text-align: right;\n",
       "    }\n",
       "</style>\n",
       "<table border=\"1\" class=\"dataframe\">\n",
       "  <thead>\n",
       "    <tr style=\"text-align: right;\">\n",
       "      <th></th>\n",
       "      <th>Transformation</th>\n",
       "      <th>LM Stat</th>\n",
       "      <th>LM p-value</th>\n",
       "      <th>F-stat</th>\n",
       "      <th>F p-value</th>\n",
       "      <th>Verdict</th>\n",
       "    </tr>\n",
       "  </thead>\n",
       "  <tbody>\n",
       "    <tr>\n",
       "      <th>0</th>\n",
       "      <td>log</td>\n",
       "      <td>10.510972</td>\n",
       "      <td>0.001187</td>\n",
       "      <td>10.671152</td>\n",
       "      <td>0.001154</td>\n",
       "      <td>Heteroscedasticity Present</td>\n",
       "    </tr>\n",
       "  </tbody>\n",
       "</table>\n",
       "</div>"
      ],
      "text/plain": [
       "  Transformation    LM Stat  LM p-value     F-stat  F p-value  \\\n",
       "0            log  10.510972    0.001187  10.671152   0.001154   \n",
       "\n",
       "                      Verdict  \n",
       "0  Heteroscedasticity Present  "
      ]
     },
     "execution_count": 25,
     "metadata": {},
     "output_type": "execute_result"
    }
   ],
   "source": [
    "heteroscedasticity_check(X, y, model=None, transformations=[\"log\"])"
   ]
  },
  {
   "cell_type": "code",
   "execution_count": 32,
   "id": "a9582653",
   "metadata": {},
   "outputs": [
    {
     "data": {
      "text/html": [
       "<div>\n",
       "<style scoped>\n",
       "    .dataframe tbody tr th:only-of-type {\n",
       "        vertical-align: middle;\n",
       "    }\n",
       "\n",
       "    .dataframe tbody tr th {\n",
       "        vertical-align: top;\n",
       "    }\n",
       "\n",
       "    .dataframe thead th {\n",
       "        text-align: right;\n",
       "    }\n",
       "</style>\n",
       "<table border=\"1\" class=\"dataframe\">\n",
       "  <thead>\n",
       "    <tr style=\"text-align: right;\">\n",
       "      <th></th>\n",
       "      <th>Transformation</th>\n",
       "      <th>LM Stat</th>\n",
       "      <th>LM p-value</th>\n",
       "      <th>F-stat</th>\n",
       "      <th>F p-value</th>\n",
       "      <th>Verdict</th>\n",
       "    </tr>\n",
       "  </thead>\n",
       "  <tbody>\n",
       "    <tr>\n",
       "      <th>0</th>\n",
       "      <td>sqrt</td>\n",
       "      <td>28.325188</td>\n",
       "      <td>1.025528e-07</td>\n",
       "      <td>30.07281</td>\n",
       "      <td>6.928035e-08</td>\n",
       "      <td>Heteroscedasticity Present</td>\n",
       "    </tr>\n",
       "  </tbody>\n",
       "</table>\n",
       "</div>"
      ],
      "text/plain": [
       "  Transformation    LM Stat    LM p-value    F-stat     F p-value  \\\n",
       "0           sqrt  28.325188  1.025528e-07  30.07281  6.928035e-08   \n",
       "\n",
       "                      Verdict  \n",
       "0  Heteroscedasticity Present  "
      ]
     },
     "execution_count": 32,
     "metadata": {},
     "output_type": "execute_result"
    }
   ],
   "source": [
    "heteroscedasticity_check(X_train, y_train, model=None, transformations= [\"sqrt\"])"
   ]
  },
  {
   "cell_type": "code",
   "execution_count": 35,
   "id": "0e15c8c2",
   "metadata": {},
   "outputs": [
    {
     "data": {
      "text/html": [
       "<div>\n",
       "<style scoped>\n",
       "    .dataframe tbody tr th:only-of-type {\n",
       "        vertical-align: middle;\n",
       "    }\n",
       "\n",
       "    .dataframe tbody tr th {\n",
       "        vertical-align: top;\n",
       "    }\n",
       "\n",
       "    .dataframe thead th {\n",
       "        text-align: right;\n",
       "    }\n",
       "</style>\n",
       "<table border=\"1\" class=\"dataframe\">\n",
       "  <thead>\n",
       "    <tr style=\"text-align: right;\">\n",
       "      <th></th>\n",
       "      <th>Transformation</th>\n",
       "      <th>LM Stat</th>\n",
       "      <th>LM p-value</th>\n",
       "      <th>F-stat</th>\n",
       "      <th>F p-value</th>\n",
       "      <th>Verdict</th>\n",
       "    </tr>\n",
       "  </thead>\n",
       "  <tbody>\n",
       "    <tr>\n",
       "      <th>0</th>\n",
       "      <td>boxcox</td>\n",
       "      <td>2.443313</td>\n",
       "      <td>0.118027</td>\n",
       "      <td>2.445225</td>\n",
       "      <td>0.118441</td>\n",
       "      <td>No Heteroscedasticity</td>\n",
       "    </tr>\n",
       "  </tbody>\n",
       "</table>\n",
       "</div>"
      ],
      "text/plain": [
       "  Transformation   LM Stat  LM p-value    F-stat  F p-value  \\\n",
       "0         boxcox  2.443313    0.118027  2.445225   0.118441   \n",
       "\n",
       "                 Verdict  \n",
       "0  No Heteroscedasticity  "
      ]
     },
     "execution_count": 35,
     "metadata": {},
     "output_type": "execute_result"
    }
   ],
   "source": [
    "heteroscedasticity_check(X, y, model=None, transformations=[\"boxcox\"])"
   ]
  },
  {
   "cell_type": "code",
   "execution_count": 28,
   "id": "4f8dccbd",
   "metadata": {},
   "outputs": [
    {
     "data": {
      "text/html": [
       "<div>\n",
       "<style scoped>\n",
       "    .dataframe tbody tr th:only-of-type {\n",
       "        vertical-align: middle;\n",
       "    }\n",
       "\n",
       "    .dataframe tbody tr th {\n",
       "        vertical-align: top;\n",
       "    }\n",
       "\n",
       "    .dataframe thead th {\n",
       "        text-align: right;\n",
       "    }\n",
       "</style>\n",
       "<table border=\"1\" class=\"dataframe\">\n",
       "  <thead>\n",
       "    <tr style=\"text-align: right;\">\n",
       "      <th></th>\n",
       "      <th>Transformation</th>\n",
       "      <th>LM Stat</th>\n",
       "      <th>LM p-value</th>\n",
       "      <th>F-stat</th>\n",
       "      <th>F p-value</th>\n",
       "      <th>Verdict</th>\n",
       "    </tr>\n",
       "  </thead>\n",
       "  <tbody>\n",
       "    <tr>\n",
       "      <th>0</th>\n",
       "      <td>none</td>\n",
       "      <td>38.620186</td>\n",
       "      <td>5.148371e-10</td>\n",
       "      <td>41.286725</td>\n",
       "      <td>2.787874e-10</td>\n",
       "      <td>Heteroscedasticity Present</td>\n",
       "    </tr>\n",
       "  </tbody>\n",
       "</table>\n",
       "</div>"
      ],
      "text/plain": [
       "  Transformation    LM Stat    LM p-value     F-stat     F p-value  \\\n",
       "0           none  38.620186  5.148371e-10  41.286725  2.787874e-10   \n",
       "\n",
       "                      Verdict  \n",
       "0  Heteroscedasticity Present  "
      ]
     },
     "execution_count": 28,
     "metadata": {},
     "output_type": "execute_result"
    }
   ],
   "source": [
    "heteroscedasticity_check(X, y, model=None, transformations=[\"none\"])"
   ]
  },
  {
   "cell_type": "code",
   "execution_count": 40,
   "id": "df56ec93",
   "metadata": {},
   "outputs": [
    {
     "data": {
      "text/plain": [
       "-0.5223645710919863"
      ]
     },
     "execution_count": 40,
     "metadata": {},
     "output_type": "execute_result"
    }
   ],
   "source": [
    "lam"
   ]
  },
  {
   "cell_type": "code",
   "execution_count": 39,
   "id": "9d96fecb",
   "metadata": {},
   "outputs": [],
   "source": [
    "from scipy import stats\n",
    "y_train_transformed, lam = stats.boxcox(y_train)  # if Box-Cox was best\n",
    "model_final = sm.OLS(y_train_transformed, sm.add_constant(X_train)).fit()\n",
    "\n",
    "\n",
    "# 5 Predict on test set (predictions will be in transformed scale)\n",
    "y_pred_transformed = model_final.predict(sm.add_constant(X_test))\n",
    "\n",
    "# 6 Convert predictions back to original scale\n",
    "# Inverse Box-Cox\n",
    "from scipy.special import inv_boxcox\n",
    "\n",
    "y_pred_original = inv_boxcox(y_pred_transformed, lam)\n"
   ]
  },
  {
   "cell_type": "markdown",
   "id": "58ec71b5",
   "metadata": {},
   "source": [
    "# Step 7:- Checking Influential points"
   ]
  },
  {
   "cell_type": "code",
   "execution_count": 43,
   "id": "91f3199f",
   "metadata": {},
   "outputs": [
    {
     "name": "stdout",
     "output_type": "stream",
     "text": [
      "Potential Outliers (Studentized Residuals > 3):\n",
      "7\n",
      "\n",
      "High Leverage Points:\n",
      "137\n",
      "\n",
      "Influential Points (Cook’s Distance > 4/n):\n",
      "33\n"
     ]
    }
   ],
   "source": [
    "import statsmodels.api as sm\n",
    "import numpy as np\n",
    "import pandas as pd\n",
    "\n",
    "# 1. Fit model again (original or transformed y, jo tum use kar rahe ho)\n",
    "model = sm.OLS(y_train_transformed, sm.add_constant(X_train)).fit()\n",
    "\n",
    "# 2. Get influence measures\n",
    "influence = model.get_influence()\n",
    "\n",
    "# Studentized residuals\n",
    "student_resid = influence.resid_studentized_external\n",
    "\n",
    "# Leverage values\n",
    "leverage = influence.hat_matrix_diag\n",
    "\n",
    "# Cook’s Distance\n",
    "cooks_d, pvals = influence.cooks_distance\n",
    "\n",
    "# 3. Create a dataframe for easy inspection\n",
    "influence_df = pd.DataFrame({\n",
    "    \"Studentized Residuals\": student_resid,\n",
    "    \"Leverage\": leverage,\n",
    "    \"Cooks_Distance\": cooks_d\n",
    "})\n",
    "\n",
    "# 4. Thresholds (rules of thumb)\n",
    "outliers = influence_df[np.abs(influence_df[\"Studentized Residuals\"]) > 3]  # |resid| > 3\n",
    "high_leverage = influence_df[influence_df[\"Leverage\"] > (2*X_train.shape[1]/X_train.shape[0])]  \n",
    "influential = influence_df[influence_df[\"Cooks_Distance\"] > 4/X_train.shape[0]]\n",
    "\n",
    "print(\"Potential Outliers (Studentized Residuals > 3):\")\n",
    "print(len(outliers))\n",
    "\n",
    "print(\"\\nHigh Leverage Points:\")\n",
    "print(len(high_leverage))\n",
    "\n",
    "print(\"\\nInfluential Points (Cook’s Distance > 4/n):\")\n",
    "print(len(influential))\n"
   ]
  },
  {
   "cell_type": "markdown",
   "id": "972fb30a",
   "metadata": {},
   "source": [
    "# Step 8:- Evaluting metrics"
   ]
  },
  {
   "cell_type": "code",
   "execution_count": 44,
   "id": "d2b55d6d",
   "metadata": {},
   "outputs": [
    {
     "name": "stdout",
     "output_type": "stream",
     "text": [
      "Training Target Mean: 91.8822\n",
      "Mean Squared Error (MSE): 55.0006\n",
      "Root Mean Squared Error (RMSE): 7.4162\n",
      "Mean Absolute Error (MAE): 4.2817\n",
      "R-squared (R²): 0.9061\n",
      "Mean Absolute Percentage Error (MAPE): 4.42%\n"
     ]
    }
   ],
   "source": [
    "from sklearn.metrics import mean_squared_error, mean_absolute_error, r2_score\n",
    "import numpy as np\n",
    "\n",
    "# Mean of target variable in training set\n",
    "target_mean_train = y_train.mean()\n",
    "print(f\"Training Target Mean: {target_mean_train:.4f}\")\n",
    "\n",
    "\n",
    "# MSE\n",
    "mse = mean_squared_error(y_test, y_pred_original)\n",
    "\n",
    "# RMSE\n",
    "rmse = np.sqrt(mse)\n",
    "\n",
    "# MAE\n",
    "mae = mean_absolute_error(y_test, y_pred_original)\n",
    "\n",
    "# R² Score\n",
    "r2 = r2_score(y_test, y_pred_original)\n",
    "\n",
    "# MAPE\n",
    "mape = np.mean(np.abs((y_test - y_pred_original) / y_test)) * 100\n",
    "\n",
    "# Print results\n",
    "print(f\"Mean Squared Error (MSE): {mse:.4f}\")\n",
    "print(f\"Root Mean Squared Error (RMSE): {rmse:.4f}\")\n",
    "print(f\"Mean Absolute Error (MAE): {mae:.4f}\")\n",
    "print(f\"R-squared (R²): {r2:.4f}\")\n",
    "print(f\"Mean Absolute Percentage Error (MAPE): {mape:.2f}%\")\n"
   ]
  },
  {
   "cell_type": "markdown",
   "id": "f66a5ac9",
   "metadata": {},
   "source": [
    "# Step 9:- Model Validation"
   ]
  },
  {
   "cell_type": "code",
   "execution_count": 31,
   "id": "4c1f320d",
   "metadata": {},
   "outputs": [
    {
     "name": "stdout",
     "output_type": "stream",
     "text": [
      "Cross-Validation RMSEs: [0.00673251 0.00522317 0.00625093 0.0053943  0.00622763]\n",
      "Average RMSE: 0.005965708466153319\n"
     ]
    }
   ],
   "source": [
    "from sklearn.model_selection import cross_val_score\n",
    "import numpy as np\n",
    "# Sklearn model\n",
    "lr = LinearRegression()\n",
    "\n",
    "scores = cross_val_score(lr, X_train, y_train_transformed, cv=5, scoring='neg_mean_squared_error')\n",
    "rmse_scores = np.sqrt(-scores)\n",
    "print(\"Cross-Validation RMSEs:\", rmse_scores)\n",
    "print(\"Average RMSE:\", rmse_scores.mean())\n"
   ]
  },
  {
   "cell_type": "markdown",
   "id": "39ed89d5",
   "metadata": {},
   "source": [
    "# Step 10:- Comparing Results"
   ]
  },
  {
   "cell_type": "code",
   "execution_count": 48,
   "id": "bf4503e3",
   "metadata": {},
   "outputs": [
    {
     "data": {
      "image/png": "[encoded data removed]",
      "text/plain": [
       "<Figure size 600x600 with 1 Axes>"
      ]
     },
     "metadata": {},
     "output_type": "display_data"
    }
   ],
   "source": [
    "import matplotlib.pyplot as plt\n",
    "\n",
    "plt.figure(figsize=(6,6))\n",
    "plt.scatter(y_test, y_pred_original, alpha=0.7)\n",
    "plt.plot([y_test.min(), y_test.max()], [y_test.min(), y_test.max()], 'r--')  # 45-degree line\n",
    "plt.xlabel(\"Actual Values\")\n",
    "plt.ylabel(\"Predicted Values\")\n",
    "plt.title(\"Actual vs Predicted\")\n",
    "plt.show()\n"
   ]
  },
  {
   "cell_type": "code",
   "execution_count": 49,
   "id": "180394b7",
   "metadata": {},
   "outputs": [
    {
     "data": {
      "image/png": "[encoded data removed]",
      "text/plain": [
       "<Figure size 600x400 with 1 Axes>"
      ]
     },
     "metadata": {},
     "output_type": "display_data"
    }
   ],
   "source": [
    "import seaborn as sns\n",
    "\n",
    "residuals = y_test - y_pred_original\n",
    "plt.figure(figsize=(6,4))\n",
    "sns.histplot(residuals, kde=True, bins=30)\n",
    "plt.xlabel(\"Residuals\")\n",
    "plt.title(\"Distribution of Residuals\")\n",
    "plt.show()\n"
   ]
  },
  {
   "cell_type": "markdown",
   "id": "e0adb327",
   "metadata": {},
   "source": [
    "# Step 11:- Retrain and save-full model"
   ]
  },
  {
   "cell_type": "code",
   "execution_count": 50,
   "id": "9fa9506f",
   "metadata": {},
   "outputs": [],
   "source": [
    "# Apply same λ to transform test / full y\n",
    "y_full_transformed = boxcox(y + 1e-6, lmbda=lam)\n"
   ]
  },
  {
   "cell_type": "code",
   "execution_count": 51,
   "id": "2f971dcc",
   "metadata": {},
   "outputs": [],
   "source": [
    "model_final = sm.OLS(y_full_transformed, sm.add_constant(X)).fit()"
   ]
  },
  {
   "cell_type": "code",
   "execution_count": 52,
   "id": "087ed6d9",
   "metadata": {},
   "outputs": [],
   "source": [
    "import pickle\n",
    "pickle.dump(model_final, open(\"final_model.pkl\", \"wb\"))\n"
   ]
  },
  {
   "cell_type": "code",
   "execution_count": 54,
   "id": "b0dff4fb",
   "metadata": {},
   "outputs": [],
   "source": []
  },
  {
   "cell_type": "code",
   "execution_count": null,
   "id": "3fc51209",
   "metadata": {},
   "outputs": [],
   "source": []
  },
  {
   "cell_type": "code",
   "execution_count": null,
   "id": "af7fac7c",
   "metadata": {},
   "outputs": [],
   "source": []
  },
  {
   "cell_type": "code",
   "execution_count": null,
   "id": "22591ba1",
   "metadata": {},
   "outputs": [],
   "source": []
  }
 ],
 "metadata": {
  "kernelspec": {
   "display_name": "Python 3 (ipykernel)",
   "language": "python",
   "name": "python3"
  },
  "language_info": {
   "codemirror_mode": {
    "name": "ipython",
    "version": 3
   },
   "file_extension": ".py",
   "mimetype": "text/x-python",
   "name": "python",
   "nbconvert_exporter": "python",
   "pygments_lexer": "ipython3",
   "version": "3.11.5"
  }
 },
 "nbformat": 4,
 "nbformat_minor": 5
}
